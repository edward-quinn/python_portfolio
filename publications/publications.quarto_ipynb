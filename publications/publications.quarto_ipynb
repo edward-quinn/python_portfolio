{
  "cells": [
    {
      "cell_type": "markdown",
      "metadata": {},
      "source": [
        "---\n",
        "format:\n",
        "    html: \n",
        "        html-table-processing: none\n",
        "---"
      ],
      "id": "07e68b8d"
    },
    {
      "cell_type": "code",
      "metadata": {},
      "source": [
        "#| include: false\n",
        "\n",
        "import polars as pl\n",
        "import polars.selectors as cs \n",
        "from great_tables import GT, loc, style, html\n",
        "from pyprojroot.here import here\n",
        "\n",
        "here()"
      ],
      "id": "c0c06fbc",
      "execution_count": null,
      "outputs": []
    },
    {
      "cell_type": "code",
      "metadata": {},
      "source": [
        "#| include: false\n",
        "\n",
        "df = (\n",
        "    pl.read_csv(here(\"publications/citations.csv\"))\n",
        "    .select([\"Year\", \"Title\", \"Publication\", \"Type\",\"Authors\",\"URL\"])\n",
        "    .rename({\"Publication\": \"Venue\"})\n",
        "    .sort(by=\"Year\", descending=True)\n",
        "    .with_columns(\n",
        "        pl.col(\"Venue\")\n",
        "        .str.to_titlecase()\n",
        "        .str.replace(\"Of\", \"of\")\n",
        "        .str.replace(\"And\", \"and\")\n",
        "    )\n",
        "    .with_columns(\n",
        "        pl.when(pl.col(\"Title\") == \"A Biocultural Approach to Understanding the Impacts of Psychosocial Stress\")\n",
        "        .then(pl.lit(\"University of Florida\"))\n",
        "        .when(pl.col(\"Title\") == \"Discrimination, cultural consonance, and cell-mediated immunity among college students at the University of Alabama\")\n",
        "        .then(pl.lit(\"University of Alabama\"))\n",
        "        .otherwise(pl.col(\"Venue\"))\n",
        "        .alias(\"Venue\")\n",
        "    )\n",
        "    .with_columns(\n",
        "        pl.concat_str(\n",
        "            [pl.lit(\"[\"), pl.col(\"Type\"), pl.lit(\"](\"), pl.col(\"URL\"), pl.lit(\")\")], separator=\"\"\n",
        "        ).alias(\"Type\")\n",
        "    )\n",
        "    .drop(\"URL\")\n",
        ")\n",
        "\n",
        "print(df)"
      ],
      "id": "b08d22ed",
      "execution_count": null,
      "outputs": []
    },
    {
      "cell_type": "markdown",
      "metadata": {},
      "source": [
        "Add links to open access articles, or links to the open access PDFs, masters thesis, uf doctoral dissertations, etc.\n"
      ],
      "id": "028c6e1c"
    },
    {
      "cell_type": "code",
      "metadata": {},
      "source": [
        "#| echo: false\n",
        "#| output: true\n",
        "\n",
        "gt1 = (\n",
        "    GT(df)\n",
        "    .tab_header(\n",
        "        title=\"Publications\"\n",
        "    )\n",
        "    .tab_style(\n",
        "        style=style.text(style='italic'),\n",
        "        locations=loc.body(columns=\"Venue\"))\n",
        "    # .tab_style(\n",
        "    #     style=style.text(align=\"center\"),\n",
        "    #     locations=loc.column_labels()\n",
        "    # )\n",
        "    .opt_horizontal_padding(scale=3)\n",
        "    .opt_vertical_padding(scale=0.5)\n",
        "    .fmt_markdown(columns=[\"Type\"])\n",
        ")\n",
        "\n",
        "gt1"
      ],
      "id": "02e1f98d",
      "execution_count": null,
      "outputs": []
    }
  ],
  "metadata": {
    "kernelspec": {
      "name": "python3",
      "language": "python",
      "display_name": "Python 3 (ipykernel)",
      "path": "C:\\Users\\edward\\Desktop\\data_science\\python_portfolio\\.venv\\share\\jupyter\\kernels\\python3"
    }
  },
  "nbformat": 4,
  "nbformat_minor": 5
}